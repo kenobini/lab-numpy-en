{
 "cells": [
  {
   "cell_type": "code",
   "execution_count": 3,
   "id": "a6ea9da7-1c65-4206-82c3-e4ce9e66efeb",
   "metadata": {},
   "outputs": [
    {
     "name": "stdout",
     "output_type": "stream",
     "text": [
      "1.26.4\n"
     ]
    }
   ],
   "source": [
    "#1. Import the NUMPY package under the name np.\n",
    "\n",
    "import numpy as np\n",
    "\n",
    "#2. Print the NUMPY version and the configuration.\n",
    "\n",
    "print(np.version.version)"
   ]
  },
  {
   "cell_type": "code",
   "execution_count": 5,
   "id": "ac1fe98b-984c-4046-9284-2c2d51648d6d",
   "metadata": {},
   "outputs": [
    {
     "name": "stdout",
     "output_type": "stream",
     "text": [
      "Array a:\n",
      " [[[0.38877296 0.03270095 0.72431667 0.34607409 0.15553485]\n",
      "  [0.62335161 0.39441476 0.44802037 0.11551755 0.19356238]\n",
      "  [0.74797104 0.81369835 0.71082343 0.58005109 0.60772143]]\n",
      "\n",
      " [[0.70997232 0.00472344 0.20697742 0.14203428 0.20999604]\n",
      "  [0.58789016 0.84248904 0.27672934 0.21104887 0.46858659]\n",
      "  [0.46749771 0.25274593 0.21294581 0.36734494 0.75052988]]]\n"
     ]
    }
   ],
   "source": [
    "#3. Generate a 2x3x5 3-dimensional array with random values. Assign the array to variable \"a\"\n",
    "# Challenge: there are at least three easy ways that use numpy to generate random arrays. How many ways can you find?\n",
    "\n",
    "a = np.random.random((2, 3, 5))\n",
    "\n",
    "#4. Print a.\n",
    "\n",
    "print(\"Array a:\\n\", a)"
   ]
  },
  {
   "cell_type": "code",
   "execution_count": 7,
   "id": "9c03c89e-aa91-41ad-9838-6c090dc8b29a",
   "metadata": {},
   "outputs": [
    {
     "name": "stdout",
     "output_type": "stream",
     "text": [
      "Array b:\n",
      " [[[1. 1. 1.]\n",
      "  [1. 1. 1.]]\n",
      "\n",
      " [[1. 1. 1.]\n",
      "  [1. 1. 1.]]\n",
      "\n",
      " [[1. 1. 1.]\n",
      "  [1. 1. 1.]]\n",
      "\n",
      " [[1. 1. 1.]\n",
      "  [1. 1. 1.]]\n",
      "\n",
      " [[1. 1. 1.]\n",
      "  [1. 1. 1.]]]\n"
     ]
    }
   ],
   "source": [
    "#5. Create a 5x2x3 3-dimensional array with all values equaling 1.\n",
    "#Assign the array to variable \"b\"\n",
    "\n",
    "b = np.ones((5, 2, 3))\n",
    "\n",
    "#6. Print b.\n",
    "\n",
    "print(\"Array b:\\n\", b)"
   ]
  },
  {
   "cell_type": "code",
   "execution_count": 9,
   "id": "13a1d63d-8a34-43d1-969e-9d7ebc01d4e0",
   "metadata": {},
   "outputs": [
    {
     "name": "stdout",
     "output_type": "stream",
     "text": [
      "Do a and b have the same size?  True\n"
     ]
    }
   ],
   "source": [
    "#7. Do a and b have the same size? How do you prove that in Python code?\n",
    "\n",
    "print(\"Do a and b have the same size? \", a.size == b.size)"
   ]
  },
  {
   "cell_type": "code",
   "execution_count": 11,
   "id": "ba20a805-b6f9-4184-ba60-967202e50eae",
   "metadata": {},
   "outputs": [
    {
     "name": "stdout",
     "output_type": "stream",
     "text": [
      "Cannot add a and b because their shapes are incompatible: operands could not be broadcast together with shapes (2,3,5) (5,2,3) \n"
     ]
    }
   ],
   "source": [
    "#8. Are you able to add a and b? Why or why not?\n",
    "\n",
    "try:\n",
    "    a + b\n",
    "except ValueError as e:\n",
    "    print(\"Cannot add a and b because their shapes are incompatible:\", e)"
   ]
  },
  {
   "cell_type": "code",
   "execution_count": 13,
   "id": "6711a843-6846-4087-b252-4359bb3dfdea",
   "metadata": {},
   "outputs": [],
   "source": [
    "#9. Transpose b so that it has the same structure of a (i.e. become a 2x3x5 array). Assign the transposed array to varialbe \"c\".\n",
    "\n",
    "c = b.transpose(1, 2, 0) "
   ]
  },
  {
   "cell_type": "code",
   "execution_count": 23,
   "id": "48a373c7-c00a-4d15-b698-5832e350cdc6",
   "metadata": {},
   "outputs": [
    {
     "name": "stdout",
     "output_type": "stream",
     "text": [
      "Addition succeeded because shapes now match.\n",
      "Array d:\n",
      " [[[1.38877296 1.03270095 1.72431667 1.34607409 1.15553485]\n",
      "  [1.62335161 1.39441476 1.44802037 1.11551755 1.19356238]\n",
      "  [1.74797104 1.81369835 1.71082343 1.58005109 1.60772143]]\n",
      "\n",
      " [[1.70997232 1.00472344 1.20697742 1.14203428 1.20999604]\n",
      "  [1.58789016 1.84248904 1.27672934 1.21104887 1.46858659]\n",
      "  [1.46749771 1.25274593 1.21294581 1.36734494 1.75052988]]]\n"
     ]
    }
   ],
   "source": [
    "#10. Try to add a and c. Now it should work. Assign the sum to varialbe \"d\". But why does it work now?\n",
    "\n",
    "d = a + c\n",
    "print(\"Addition succeeded because shapes now match.\")\n",
    "print(\"Array d:\\n\", d)"
   ]
  },
  {
   "cell_type": "code",
   "execution_count": 17,
   "id": "ace4c6dd-b725-458a-b966-2f847a16dda8",
   "metadata": {},
   "outputs": [
    {
     "name": "stdout",
     "output_type": "stream",
     "text": [
      "Array a:\n",
      " [[[0.38877296 0.03270095 0.72431667 0.34607409 0.15553485]\n",
      "  [0.62335161 0.39441476 0.44802037 0.11551755 0.19356238]\n",
      "  [0.74797104 0.81369835 0.71082343 0.58005109 0.60772143]]\n",
      "\n",
      " [[0.70997232 0.00472344 0.20697742 0.14203428 0.20999604]\n",
      "  [0.58789016 0.84248904 0.27672934 0.21104887 0.46858659]\n",
      "  [0.46749771 0.25274593 0.21294581 0.36734494 0.75052988]]]\n",
      "Array d:\n",
      " [[[1.38877296 1.03270095 1.72431667 1.34607409 1.15553485]\n",
      "  [1.62335161 1.39441476 1.44802037 1.11551755 1.19356238]\n",
      "  [1.74797104 1.81369835 1.71082343 1.58005109 1.60772143]]\n",
      "\n",
      " [[1.70997232 1.00472344 1.20697742 1.14203428 1.20999604]\n",
      "  [1.58789016 1.84248904 1.27672934 1.21104887 1.46858659]\n",
      "  [1.46749771 1.25274593 1.21294581 1.36734494 1.75052988]]]\n",
      "Relation: d = a + c, where c is an array of ones.\n"
     ]
    }
   ],
   "source": [
    "#11. Print a and d. Notice the difference and relation of the two array in terms of the values? Explain.\n",
    "\n",
    "print(\"Array a:\\n\", a)\n",
    "print(\"Array d:\\n\", d)\n",
    "print(\"Relation: d = a + c, where c is an array of ones.\")"
   ]
  },
  {
   "cell_type": "code",
   "execution_count": 21,
   "id": "abcc188f-0393-48c3-9174-203e0c6a6779",
   "metadata": {},
   "outputs": [
    {
     "name": "stdout",
     "output_type": "stream",
     "text": [
      "Array e:\n",
      " [[[0.38877296 0.03270095 0.72431667 0.34607409 0.15553485]\n",
      "  [0.62335161 0.39441476 0.44802037 0.11551755 0.19356238]\n",
      "  [0.74797104 0.81369835 0.71082343 0.58005109 0.60772143]]\n",
      "\n",
      " [[0.70997232 0.00472344 0.20697742 0.14203428 0.20999604]\n",
      "  [0.58789016 0.84248904 0.27672934 0.21104887 0.46858659]\n",
      "  [0.46749771 0.25274593 0.21294581 0.36734494 0.75052988]]]\n"
     ]
    }
   ],
   "source": [
    "#12. Multiply a and c. Assign the result to e.\n",
    "\n",
    "e = a * c\n",
    "print(\"Array e:\\n\", e)"
   ]
  },
  {
   "cell_type": "code",
   "execution_count": 25,
   "id": "7eb016c9-8a66-4a91-bdaf-a83f42eaa08b",
   "metadata": {},
   "outputs": [
    {
     "name": "stdout",
     "output_type": "stream",
     "text": [
      "Does e equal a? True\n"
     ]
    }
   ],
   "source": [
    "#13. Does e equal to a? Why or why not?\n",
    "\n",
    "print(\"Does e equal a?\", np.array_equal(e, a))"
   ]
  },
  {
   "cell_type": "code",
   "execution_count": 27,
   "id": "adee091e-70da-47d4-a1d1-d1b14858d94a",
   "metadata": {},
   "outputs": [
    {
     "name": "stdout",
     "output_type": "stream",
     "text": [
      "d_max: 1.8424890408444627 d_min: 1.0047234389207644 d_mean: 1.4198014439130084\n"
     ]
    }
   ],
   "source": [
    "#14. Identify the max, min, and mean values in d. Assign those values to variables \"d_max\", \"d_min\", and \"d_mean\"\n",
    "\n",
    "d_max = np.max(d)\n",
    "d_min = np.min(d)\n",
    "d_mean = np.mean(d)\n",
    "print(\"d_max:\", d_max, \"d_min:\", d_min, \"d_mean:\", d_mean)"
   ]
  },
  {
   "cell_type": "code",
   "execution_count": 29,
   "id": "31d76764-043b-4ca1-9ff0-388103108437",
   "metadata": {},
   "outputs": [],
   "source": [
    "#15. Now we want to label the values in d. First create an empty array \"f\" with the same shape (i.e. 2x3x5) as d using `np.empty`.\n",
    "\n",
    "f = np.empty_like(d)"
   ]
  },
  {
   "cell_type": "code",
   "execution_count": 31,
   "id": "1d5a5f5a-716c-408f-9a64-4b245c86cf56",
   "metadata": {},
   "outputs": [],
   "source": [
    "\"\"\"\n",
    "#16. Populate the values in f. For each value in d, if it's larger than d_min but smaller than d_mean, assign 25 to the corresponding value in f.\n",
    "If a value in d is larger than d_mean but smaller than d_max, assign 75 to the corresponding value in f.\n",
    "If a value equals to d_mean, assign 50 to the corresponding value in f.\n",
    "Assign 0 to the corresponding value(s) in f for d_min in d.\n",
    "Assign 100 to the corresponding value(s) in f for d_max in d.\n",
    "In the end, f should have only the following values: 0, 25, 50, 75, and 100.\n",
    "Note: you don't have to use Numpy in this question.\n",
    "\"\"\"\n",
    "\n",
    "for i in range(d.shape[0]):\n",
    "    for j in range(d.shape[1]):\n",
    "        for k in range(d.shape[2]):\n",
    "            if d[i, j, k] == d_min:\n",
    "                f[i, j, k] = 0\n",
    "            elif d[i, j, k] == d_max:\n",
    "                f[i, j, k] = 100\n",
    "            elif d_min < d[i, j, k] < d_mean:\n",
    "                f[i, j, k] = 25\n",
    "            elif d_mean < d[i, j, k] < d_max:\n",
    "                f[i, j, k] = 75\n",
    "            else:  # d[i, j, k] == d_mean\n",
    "                f[i, j, k] = 50"
   ]
  },
  {
   "cell_type": "code",
   "execution_count": 33,
   "id": "3b6fb5d4-5246-4402-8590-1c349b294914",
   "metadata": {},
   "outputs": [
    {
     "name": "stdout",
     "output_type": "stream",
     "text": [
      "Array d:\n",
      " [[[1.38877296 1.03270095 1.72431667 1.34607409 1.15553485]\n",
      "  [1.62335161 1.39441476 1.44802037 1.11551755 1.19356238]\n",
      "  [1.74797104 1.81369835 1.71082343 1.58005109 1.60772143]]\n",
      "\n",
      " [[1.70997232 1.00472344 1.20697742 1.14203428 1.20999604]\n",
      "  [1.58789016 1.84248904 1.27672934 1.21104887 1.46858659]\n",
      "  [1.46749771 1.25274593 1.21294581 1.36734494 1.75052988]]]\n",
      "Array f:\n",
      " [[[ 25.  25.  75.  25.  25.]\n",
      "  [ 75.  25.  75.  25.  25.]\n",
      "  [ 75.  75.  75.  75.  75.]]\n",
      "\n",
      " [[ 75.   0.  25.  25.  25.]\n",
      "  [ 75. 100.  25.  25.  75.]\n",
      "  [ 75.  25.  25.  25.  75.]]]\n"
     ]
    }
   ],
   "source": [
    "\"\"\"\n",
    "#17. Print d and f. Do you have your expected f?\n",
    "For instance, if your d is:\n",
    "array([[[1.85836099, 1.67064465, 1.62576044, 1.40243961, 1.88454931],\n",
    "        [1.75354326, 1.69403643, 1.36729252, 1.61415071, 1.12104981],\n",
    "        [1.72201435, 1.1862918 , 1.87078449, 1.7726778 , 1.88180042]],\n",
    "\n",
    "       [[1.44747908, 1.31673383, 1.02000951, 1.52218947, 1.97066381],\n",
    "        [1.79129243, 1.74983003, 1.96028037, 1.85166831, 1.65450881],\n",
    "        [1.18068344, 1.9587381 , 1.00656599, 1.93402165, 1.73514584]]])\n",
    "\n",
    "Your f should be:\n",
    "array([[[ 75.,  75.,  75.,  25.,  75.],\n",
    "        [ 75.,  75.,  25.,  25.,  25.],\n",
    "        [ 75.,  25.,  75.,  75.,  75.]],\n",
    "\n",
    "       [[ 25.,  25.,  25.,  25., 100.],\n",
    "        [ 75.,  75.,  75.,  75.,  75.],\n",
    "        [ 25.,  75.,   0.,  75.,  75.]]])\n",
    "\"\"\"\n",
    "\n",
    "print(\"Array d:\\n\", d)\n",
    "print(\"Array f:\\n\", f)"
   ]
  },
  {
   "cell_type": "code",
   "execution_count": 37,
   "id": "9548c0ec-0845-4846-953a-a0bdfa88eb1a",
   "metadata": {},
   "outputs": [
    {
     "name": "stdout",
     "output_type": "stream",
     "text": [
      "Array f with string labels:\n",
      " [[['B' 'B' 'D' 'B' 'B']\n",
      "  ['D' 'B' 'D' 'B' 'B']\n",
      "  ['D' 'D' 'D' 'D' 'D']]\n",
      "\n",
      " [['D' 'A' 'B' 'B' 'B']\n",
      "  ['D' 'E' 'B' 'B' 'D']\n",
      "  ['D' 'B' 'B' 'B' 'D']]]\n"
     ]
    }
   ],
   "source": [
    "\"\"\"\n",
    "#18. Bonus question: instead of using numbers (i.e. 0, 25, 50, 75, and 100), how to use string values \n",
    "(\"A\", \"B\", \"C\", \"D\", and \"E\") to label the array elements? You are expecting the result to be:\n",
    "array([[[ 'D',  'D',  'D',  'B',  'D'],\n",
    "        [ 'D',  'D',  'B',  'B',  'B'],\n",
    "        [ 'D',  'B',  'D',  'D',  'D']],\n",
    "\n",
    "       [[ 'B',  'B',  'B',  'B',  'E'],\n",
    "        [ 'D',  'D',  'D',  'D',  'D'],\n",
    "        [ 'B',  'D',   'A',  'D', 'D']]])\n",
    "Again, you don't need Numpy in this question.\n",
    "\"\"\"\n",
    "\n",
    "f_strings = np.empty_like(f, dtype=object)\n",
    "\n",
    "for i in range(d.shape[0]):\n",
    "    for j in range(d.shape[1]):\n",
    "        for k in range(d.shape[2]):\n",
    "            if d[i, j, k] == d_min:\n",
    "                f_strings[i, j, k] = \"A\"\n",
    "            elif d[i, j, k] == d_max:\n",
    "                f_strings[i, j, k] = \"E\"\n",
    "            elif d_min < d[i, j, k] < d_mean:\n",
    "                f_strings[i, j, k] = \"B\"\n",
    "            elif d_mean < d[i, j, k] < d_max:\n",
    "                f_strings[i, j, k] = \"D\"\n",
    "            else:  # d[i, j, k] == d_mean\n",
    "                f_strings[i, j, k] = \"C\"\n",
    "\n",
    "print(\"Array f with string labels:\\n\", f_strings)"
   ]
  }
 ],
 "metadata": {
  "kernelspec": {
   "display_name": "Python 3 (ipykernel)",
   "language": "python",
   "name": "python3"
  },
  "language_info": {
   "codemirror_mode": {
    "name": "ipython",
    "version": 3
   },
   "file_extension": ".py",
   "mimetype": "text/x-python",
   "name": "python",
   "nbconvert_exporter": "python",
   "pygments_lexer": "ipython3",
   "version": "3.12.7"
  }
 },
 "nbformat": 4,
 "nbformat_minor": 5
}
